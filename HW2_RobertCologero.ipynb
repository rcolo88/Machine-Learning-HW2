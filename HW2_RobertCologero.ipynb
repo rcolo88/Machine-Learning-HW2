{
  "cells": [
    {
      "cell_type": "markdown",
      "metadata": {
        "id": "view-in-github",
        "colab_type": "text"
      },
      "source": [
        "<a href=\"https://colab.research.google.com/github/rcolo88/Machine-Learning-HW2/blob/main/HW2_RobertCologero.ipynb\" target=\"_parent\"><img src=\"https://colab.research.google.com/assets/colab-badge.svg\" alt=\"Open In Colab\"/></a>"
      ]
    },
    {
      "cell_type": "markdown",
      "metadata": {
        "id": "0PPmXK0NPB16"
      },
      "source": [
        "# Homework 2\n",
        "## Homework guideline\n",
        "- The deadline is Oct 27th 10:30am. Submission after the deadline will not be graded. \n",
        "\n",
        "- Submit your work(your reasoning and your code) as a SINGLE .ipynb document. Please rename the document as _HW1_YOURNAME.ipynb_ (for example, _HW1_FELIX.ipynb_). You are responsible for checking that you have correctly submitted the correct document. If your code cannot run, you may receive NO point. \n",
        "\n",
        "- Please justify all short answers with a brief explanation.\n",
        "\n",
        "- You only use the Python packages included in the following cell. You are not allowed to use other advanced package or modules unless you are permitted to. \n",
        "\n",
        "- In your final submission include the plots produced by the unedited code as presented below, as well as any additional plots produced after editing the code during the course of a problem. You may find it necessary to copy/paste relevant code into additional cells to accomplish this.\n",
        "\n",
        "- Feel free to use the lecture notes and other resources but work on your own!"
      ]
    },
    {
      "cell_type": "code",
      "execution_count": null,
      "metadata": {
        "colab": {
          "base_uri": "https://localhost:8080/"
        },
        "id": "tZDH51c-2EU1",
        "outputId": "61469e8a-5fc3-439d-ef76-c05189e4e11d"
      },
      "outputs": [
        {
          "name": "stdout",
          "output_type": "stream",
          "text": [
            "Populating the interactive namespace from numpy and matplotlib\n"
          ]
        }
      ],
      "source": [
        "%pylab inline \n"
      ]
    },
    {
      "cell_type": "markdown",
      "metadata": {
        "id": "rtKWusbFzQIk"
      },
      "source": [
        "# Modified MNIST\n",
        "I modified the the original MNIST gray-scale image dataset, where samples of digit 9 belong to class 1, and otherwise class 0. Now it becomes binary logistic regression. \n",
        "It contains a training set of images $\\texttt{Xtr}$ with labels $\\texttt{Ytr}$ and a testing set\n",
        "of images $\\texttt{Xte}$ with labels $\\texttt{Yte}$. There are 6000 samples in training sets and 1000 samples in testing sets."
      ]
    },
    {
      "cell_type": "code",
      "execution_count": null,
      "metadata": {
        "colab": {
          "base_uri": "https://localhost:8080/"
        },
        "id": "egCp1Xyi2A60",
        "outputId": "8602b460-911e-4b33-e1b8-917cf49af390"
      },
      "outputs": [
        {
          "name": "stdout",
          "output_type": "stream",
          "text": [
            "Downloading data from https://storage.googleapis.com/tensorflow/tf-keras-datasets/mnist.npz\n",
            "11493376/11490434 [==============================] - 0s 0us/step\n",
            "11501568/11490434 [==============================] - 0s 0us/step\n",
            "Xtr: (6000, 28, 28)\n",
            "Ytr: (6000,)\n",
            "Xte: (1000, 28, 28)\n",
            "Yte: (1000,)\n"
          ]
        }
      ],
      "source": [
        "from keras.datasets import mnist\n",
        "(train_X, train_y), (test_X, test_y) = mnist.load_data()\n",
        "Xtr                   = train_X[0:6000, :]\n",
        "train_y_part          = train_y[0:6000]\n",
        "Ytr                   = zeros(train_y_part.size)\n",
        "Ytr[train_y_part==9]=1\n",
        "\n",
        "Xte                   = test_X[0:1000,:]\n",
        "test_y_part           = test_y[0:1000]\n",
        "Yte  = zeros(test_y_part.size)\n",
        "Yte[test_y_part==9]=1\n",
        "\n",
        "print('Xtr: ' + str(Xtr.shape))\n",
        "print('Ytr: ' + str(Ytr.shape))\n",
        "print('Xte: '  + str(Xte.shape))\n",
        "print('Yte: '  + str(Yte.shape))\n",
        "\n"
      ]
    },
    {
      "cell_type": "code",
      "execution_count": null,
      "metadata": {
        "colab": {
          "base_uri": "https://localhost:8080/",
          "height": 593
        },
        "id": "mTnDjIzx3R24",
        "outputId": "c6da20cc-03b3-4b11-c0cc-19a23c1cbb56"
      },
      "outputs": [
        {
          "data": {
            "image/png": "[encoded data removed]",
            "text/plain": [
              "<Figure size 720x720 with 9 Axes>"
            ]
          },
          "metadata": {},
          "output_type": "display_data"
        }
      ],
      "source": [
        "fig, axs = plt.subplots(3, 3,figsize=(10,10))\n",
        "axs = axs.ravel()\n",
        "index = where(Ytr>0)[0]\n",
        "for i in range(9):\n",
        "    axs[i].imshow(Xtr[index[i]], cmap=pyplot.get_cmap('gray'))"
      ]
    },
    {
      "cell_type": "markdown",
      "metadata": {
        "id": "_f5Jvc-04O05"
      },
      "source": [
        "## Q1: Logistic regression (20pt)\n",
        "\n",
        "---\n",
        "\n",
        "\n",
        "### 1. Data preparation for training and testing (5pt)\n",
        "Prepare your matrix $\\mathbf{X}$ and your output label $\\mathbf{y}$ for the training data. Please count the number of 9 out of these 60000 training set. What is the dimension of the matrix $\\mathbf{X}$. Don't forget to do the same preparation for the testing data. "
      ]
    },
    {
      "cell_type": "code",
      "execution_count": null,
      "metadata": {
        "colab": {
          "base_uri": "https://localhost:8080/"
        },
        "id": "zfPxewPNPaxI",
        "outputId": "fa64ea96-8f08-4452-d03b-97fa74e6ee54"
      },
      "outputs": [
        {
          "name": "stdout",
          "output_type": "stream",
          "text": [
            "(6000, 785)\n",
            "(1000, 785)\n",
            "(6000,)\n",
            "(1000,)\n",
            "Number of nines in training set is: 601\n"
          ]
        }
      ],
      "source": [
        "#@title Q1.1 your code starts here\n",
        "\n",
        "# Transforming from tensor to matrix\n",
        "X = np.reshape(Xtr,(6000,784))\n",
        "xt = np.reshape(Xte,(1000,784))\n",
        "\n",
        "# Creating X matrices train/test\n",
        "xones = np.ones((6000,1))\n",
        "xtones = np.ones((1000,1))\n",
        "X = np.column_stack((xones,X))\n",
        "xt = np.column_stack((xtones,xt))\n",
        "print(X.shape)\n",
        "print(xt.shape)\n",
        "\n",
        "# Creating y matrices train/test\n",
        "Y = Ytr\n",
        "yt = Yte\n",
        "print(Y.shape)\n",
        "print(yt.shape)\n",
        "\n",
        "numb_9=np.count_nonzero(Y==1)\n",
        "print('Number of nines in training set is: '+str(numb_9))"
      ]
    },
    {
      "cell_type": "markdown",
      "metadata": {
        "id": "ERvvzBXc5khg"
      },
      "source": [
        "### **Your Answer:**\n",
        "Dimension of the training set X is, 6000 by 785. The number of nines in the training set is 601."
      ]
    },
    {
      "cell_type": "markdown",
      "metadata": {
        "id": "joKAPaOEnOu-"
      },
      "source": [
        "\n",
        "---\n",
        "### 2. Logistic regression (15pt)\n",
        "\n",
        "Perform logistic regression with the sigmoid activation function using **mini-batches descent method**. The mini-batch size is 25, the learning rate is $\\eta_t = \\frac{1}{(1+2t)^3}$ and total iteration number is $50$. You might need to restart the training with better initial conditions. Modify my code to accomodate it. \n",
        "\n",
        "Please use the testing set to validate the logistic regression model. What is the test error rate?  Could you plot serveral pictures that logistic regression model misclassified the digit 9. \n"
      ]
    },
    {
      "cell_type": "code",
      "execution_count": null,
      "metadata": {
        "colab": {
          "base_uri": "https://localhost:8080/"
        },
        "id": "Bno2e5JeaWdi",
        "outputId": "0d01a568-bf7c-4aad-add7-b388448205ae"
      },
      "outputs": [
        {
          "name": "stdout",
          "output_type": "stream",
          "text": [
            "[0 1 2]\n",
            "[1 2 0]\n"
          ]
        },
        {
          "data": {
            "text/plain": [
              "array([[3, 4, 5],\n",
              "       [6, 7, 8],\n",
              "       [0, 1, 2]])"
            ]
          },
          "execution_count": 5,
          "metadata": {},
          "output_type": "execute_result"
        }
      ],
      "source": [
        "test_m = arange(9)\n",
        "test_m = test_m.reshape(3,3)\n",
        "test_m\n",
        "n,m = test_m.shape\n",
        "arr = arange(n)\n",
        "ary = arange(m)\n",
        "np.random.shuffle(ary)\n",
        "np.random.shuffle(arr)\n",
        "print(arr)\n",
        "print(ary)\n",
        "np.random.shuffle(test_m)\n",
        "test_m\n",
        "\n",
        "# Need to change random.shuffle(X) in logistic regression to form above\n"
      ]
    },
    {
      "cell_type": "code",
      "execution_count": null,
      "metadata": {
        "colab": {
          "base_uri": "https://localhost:8080/"
        },
        "id": "rqnurYHKpfEO",
        "outputId": "98b4b228-9fb3-4318-a35f-e35a12581d44"
      },
      "outputs": [
        {
          "name": "stderr",
          "output_type": "stream",
          "text": [
            "/usr/local/lib/python3.7/dist-packages/ipykernel_launcher.py:7: RuntimeWarning: overflow encountered in exp\n",
            "  import sys\n"
          ]
        },
        {
          "name": "stdout",
          "output_type": "stream",
          "text": [
            "(785,)\n"
          ]
        }
      ],
      "source": [
        "#@title Q1.2 your code starts here\n",
        "\n",
        "# Prediction function\n",
        "def predict(x, w):\n",
        "\tz = w.dot(x)\n",
        "\n",
        "\treturn 1.0 / (1.0 + exp(-z))\n",
        "\n",
        "# train weights function (with initial condition as input)\n",
        "def train_weights(X, y, l_rate_span, n_iter,IC, threshold=0.002):\n",
        "  n, m   = X.shape\n",
        "  weights = IC # Initial condition is always 0 vector. it is a bad idea! \n",
        "  # you should modify this code to make IC as an input. Then you can call this call function put the last weight as the new initial condition.\n",
        "  for iter in range(n_iter):\n",
        "    l_rate   = l_rate_span[iter]\n",
        "    sum_error = 0;\n",
        "    #arr = np.arange(n)\n",
        "    random.shuffle(X)\n",
        "    for i in range(240):\n",
        "      mini_batch = X[i*25:(i+1)*25,:]\n",
        " \n",
        "      out = zeros((25,m))\n",
        "      for j in range(len(mini_batch)):\n",
        "        #out = zeros.size((m,1))\n",
        "        prediction = predict(mini_batch[j,:], weights)\n",
        "        error      = prediction - y[j]\n",
        "        out[j,:] = error * X[j,:]\n",
        "        sum_error  = error**2 + sum_error\n",
        "    \n",
        "      sum_out = sum(out,axis = 0)\n",
        "      weights = weights - (l_rate/25)*sum_out\n",
        "    \n",
        "    #print('sum_error at ',iter+1, 'iteration is ', sum_error)\n",
        "    if sum_error == 0:\n",
        "      break\n",
        "\n",
        "  return weights\n",
        "\n",
        "# first initial condition (ones vector)\n",
        "n,m = X.shape\n",
        "frst_ic = ones(m)\n",
        "\n",
        "# logistic regression on training\n",
        "n_iter = 50\n",
        "n_span = arange(50)\n",
        "l_rate_span = 1/((1+2 * n_span)**3) \n",
        "weights = train_weights(X, Y, l_rate_span, n_iter,frst_ic) #you should restart with the new IC. \n",
        "print(weights.shape)\n",
        "weights = train_weights(xt, yt, l_rate_span, n_iter,weights) #you should restart with the new IC. \n",
        "#print(weights1)\n",
        "\n",
        "# Predict y using xtrain\n",
        "ypred = predict(weights,xt)  # Use new weights \n",
        "\n"
      ]
    },
    {
      "cell_type": "code",
      "execution_count": null,
      "metadata": {
        "colab": {
          "base_uri": "https://localhost:8080/"
        },
        "id": "a5oK06BcHZSe",
        "outputId": "a688be7f-d0fe-4d44-8c70-b61eb7f17afa"
      },
      "outputs": [
        {
          "name": "stdout",
          "output_type": "stream",
          "text": [
            "Test error is: 24.9%\n"
          ]
        }
      ],
      "source": [
        "# test error\n",
        "print('Test error is: ' + str(norm(ypred-yt,0)/1000*100) + '%')\n"
      ]
    },
    {
      "cell_type": "code",
      "execution_count": null,
      "metadata": {
        "colab": {
          "base_uri": "https://localhost:8080/",
          "height": 770
        },
        "id": "W98LcQF7BYWX",
        "outputId": "37d99c14-b3a0-4acb-aaa5-fe1cc6292579"
      },
      "outputs": [
        {
          "name": "stdout",
          "output_type": "stream",
          "text": [
            "[0. 0. 0. 0. 0. 0. 0. 1. 0. 1. 0. 0. 1. 0. 0. 0. 1. 0. 0. 0. 1. 0. 0. 0.\n",
            " 0. 0. 0. 0. 0. 0.]\n",
            "[0. 1. 0. 1. 1. 0. 0. 0. 0. 1. 0. 0. 0. 0. 0. 0. 0. 0. 0. 1. 0. 1. 1. 0.\n",
            " 1. 0. 0. 0. 0. 0.]\n"
          ]
        },
        {
          "data": {
            "image/png": "[encoded data removed]",
            "text/plain": [
              "<Figure size 576x864 with 5 Axes>"
            ]
          },
          "metadata": {},
          "output_type": "display_data"
        }
      ],
      "source": [
        "\n",
        "print(yt[:30])\n",
        "print(ypred[:30])\n",
        "\n",
        "\n",
        "# not robust by any means, prints misclassified, change range size from 15 to smaller if error\n",
        "fig, ax = plt.subplots(5,1, figsize=(8, 12)) #subplots of size Nx3 (3x3)\n",
        "a=0\n",
        "for i in range(15):\n",
        "  if ypred[i] != yt[i]:\n",
        "    plt.sca(ax[a])\n",
        "    plt.imshow(Xte[i])\n",
        "    a=a+1\n",
        "    \n",
        "\n",
        "\n"
      ]
    },
    {
      "cell_type": "markdown",
      "metadata": {
        "id": "31BQ2vMFphF6"
      },
      "source": [
        "### **Your Answer:**\n",
        "The test error rate hovers around 22%. "
      ]
    },
    {
      "cell_type": "markdown",
      "metadata": {
        "id": "SGwYMQh5veK-"
      },
      "source": [
        "\n",
        "\n",
        "\n",
        "\n",
        "\n",
        "## Q2: Support Vector Machine (50pt)\n",
        "\n",
        "\n",
        "---\n",
        "\n",
        "### 1. Data preparation for training and testing (5pt)\n",
        "Remember in SVM we move the interception out and define the class label is $\\pm1$. Prepare your matrix $\\mathbf{X}$ and your output label $\\mathbf{y}$ for the training data. Don't forget to do the same preparation for the testing data. \n",
        "\n",
        "Can you impose the hard margin classifier for this problem? Why or why not?\n"
      ]
    },
    {
      "cell_type": "code",
      "execution_count": null,
      "metadata": {
        "id": "qZkgjb2Gy4Uh"
      },
      "outputs": [],
      "source": [
        " #@title Q2.1 your code starts here\n",
        "\n",
        "# Transforming from tensor to matrix\n",
        "X = np.reshape(Xtr,(6000,784))\n",
        "xt = np.reshape(Xte,(1000,784))\n",
        "\n",
        "# Transform y \n",
        "Ytr[Ytr == 0] = -1\n",
        "Yte[Yte == 0] = -1\n",
        "Y = Ytr\n",
        "yt = Yte\n",
        "\n",
        "\n"
      ]
    },
    {
      "cell_type": "markdown",
      "metadata": {
        "id": "9Qt_c9mGwU1T"
      },
      "source": [
        "### **Your Answer:**\n",
        "You cannot impose a hard margin for this problem because if you could then the logistic test error would be zero and the data would be easily linearly seperable."
      ]
    },
    {
      "cell_type": "markdown",
      "metadata": {
        "id": "ulRUTLcDzRHl"
      },
      "source": [
        "\n",
        "\n",
        "---\n",
        "\n",
        "\n",
        "### 2. Soft Margin with Hinge Loss (15pt)\n",
        "Perform the soft margin with hinge loss using stochastic gradient descent method. \n",
        "$$\\boxed{\\min_{\\mathbf{w}\\in \\mathbb{R}^d, w_0\\in \\mathbb{R}} \\lambda\\sum_{i=1}^N \\max\\left\\{0, 1-\\mathbf{y}^{(i)}(\\mathbf{w}^\\top \\mathbf{x}^{(i)}+w_0)\\right\\} +\\frac{1}{2} \\|\\mathbf{w}\\|_2^2 }$$\n",
        "The learning rate is $\\eta_t = \\frac{1}{(1+2t)^2}$ and total iteration number is $100$. The regulation parameter $\\lambda$ is selected as follows, \n",
        "$$ \\lambda\\in \\{10^{-4},10^{-3},10^{-2},10^{-1},1,10,100,1000,10000 \\}$$\n",
        "Report the test error rates for each $\\lambda$ and find the best parameter $\\lambda$. \n",
        "You might need to restart the training with better initial conditions. \n"
      ]
    },
    {
      "cell_type": "code",
      "execution_count": null,
      "metadata": {
        "id": "l2cxjlVZ3HK4"
      },
      "outputs": [],
      "source": [
        " #@title Q2.2 your code starts here\n",
        "\n",
        "def predict(x, w, w0):\n",
        "\tactivation = w.dot(x)+w0\n",
        "\n",
        "\treturn 1 if activation >= 0.0 else -1\n",
        "\n",
        "def train_weights(X, y, learning_rate_span,lambda_param, n_iter=1000):\n",
        "  N,d = X.shape       \n",
        "  w   = ones(784)*(-1) \n",
        "  w[1] = 2            \n",
        "  w0  = 2\n",
        "  for iter in range(n_iter):\n",
        "    learning_rate = learning_rate_span[iter]\n",
        "    arr = np.arange(N)\n",
        "    random.shuffle(arr)\n",
        "    for i in arr:\n",
        "          condition = y[i] * (w.dot(X[i,:])+w0) >= 1\n",
        "          \n",
        "          if condition:\n",
        "            w = w - learning_rate *  w\n",
        "\n",
        "          else:\n",
        "            w  = w - learning_rate * (w - lambda_param *y[i] * X[i,:] )\n",
        "            w0 = w0 - learning_rate * ( -lambda_param * y[i] ) \n",
        "    #print(iter)\n",
        "  return w, w0\n",
        "\n",
        "\n"
      ]
    },
    {
      "cell_type": "code",
      "execution_count": null,
      "metadata": {
        "colab": {
          "base_uri": "https://localhost:8080/"
        },
        "id": "KBDKgaXXQzET",
        "outputId": "3495dd2b-0ec4-4477-d684-c0da101c568b"
      },
      "outputs": [
        {
          "name": "stdout",
          "output_type": "stream",
          "text": [
            "Test error at 0.0001 is: 9.6%\n",
            "Test error at 0.001 is: 3.5000000000000004%\n",
            "Test error at 0.01 is: 9.5%\n",
            "Test error at 0.1 is: 11.5%\n",
            "Test error at 1 is: 8.3%\n",
            "Test error at 10 is: 6.4%\n",
            "Test error at 100 is: 5.4%\n"
          ]
        }
      ],
      "source": [
        "# creating parameters for hinge loss svm \n",
        "n_iter = 100\n",
        "n_span = arange(n_iter)\n",
        "l_rate_span = 1/((1+ 2*n_span)**2)\n",
        "lambda_param =[0.0001, 0.001, 0.01, 0.1, 1, 10, 100, 1000, 10000]\n",
        "\n",
        "# new predict for test \n",
        "def predict1(x, w, w0):\n",
        "\tactivation = w.dot(x)+w0\n",
        "\n",
        "\treturn activation\n",
        "\n",
        "# loop to run and predict outcome for each lambda\n",
        "for i in lambda_param:\n",
        "  weights=train_weights(X,Y,l_rate_span,i,n_iter=100)\n",
        "  w=weights[0]              # retrieve w\n",
        "  w0=weights[1]             # retrive w0\n",
        "  ypred = predict1(w,xt,w0)  # predicting x test instead of train \n",
        "  ypred[ypred<0]=-1         # round values to either -1, or 1 \n",
        "  ypred[ypred>0]=1\n",
        "\n",
        "  # test error\n",
        "  print('Test error at '+ str(i)+' is: ' + str(norm(ypred-Yte,0)/1000*100) + '%')\n",
        "\n"
      ]
    },
    {
      "cell_type": "markdown",
      "metadata": {
        "id": "3t3xKcF-3KLH"
      },
      "source": [
        "### **Your Answer:**\n",
        "It appears lambda = 0.001 works the best majority of the time, however 0.01 does perform better now and then."
      ]
    },
    {
      "cell_type": "markdown",
      "metadata": {
        "id": "Y0y8ouw8IPOY"
      },
      "source": [
        "\n",
        "\n",
        "---\n",
        "\n",
        "\n",
        "### 3. Prepare for soft margin with log loss (10pt)\n",
        "Please compute the following two gradient:\n",
        "$$ \\nabla_\\mathbf{w} \\log\\left(1+e^{-y^{(i)}(\\mathbf{w}^\\top\\mathbf{x}^{(i)}+w_0 )}\\right)= $$\n",
        "\n",
        "$$ \\nabla_{w_0}\\log\\left(1+e^{-y^{(i)}(\\mathbf{w}^\\top\\mathbf{x}^{(i)}+w_0 )}\\right)=$$"
      ]
    },
    {
      "cell_type": "markdown",
      "metadata": {
        "id": "KPW7r24hI0Bc"
      },
      "source": [
        "### **Your Answer:**\n",
        "$$ \\nabla_\\mathbf{w} \\log\\left(1+e^{-y^{(i)}(\\mathbf{w}^\\top\\mathbf{x}^{(i)}+w_0 )}\\right)= $$\n",
        "\n",
        "$$ \\nabla_\\mathbf{w} = {w}-\\lambda\\frac{y^{(i)}{x}^{(i)}}{1+e^{y^{(i)}(\\mathbf{w}^\\top\\mathbf{x}^{(i)}+w_0) } }$$\n",
        "\n",
        "\n",
        "$$ \\nabla_{w_0}\\log\\left(1+e^{-y^{(i)}(\\mathbf{w}^\\top\\mathbf{x}^{(i)}+w_0 )}\\right)=$$\n",
        "\n",
        "$$ \\nabla_\\mathbf{w_0} = -\\lambda\\frac{y^{(i)}}{1+e^{y^{(i)}(\\mathbf{w}^\\top\\mathbf{x}^{(i)}+w_0) } }$$"
      ]
    },
    {
      "cell_type": "markdown",
      "metadata": {
        "id": "ewDvguQH9XS-"
      },
      "source": [
        "\n",
        "\n",
        "---\n",
        "\n",
        "\n",
        "### 4. Soft Margin with Log Loss (20pt)\n",
        "Perform the soft margin with log loss using stochastic gradient descent method.\n",
        "$$\\boxed{\\min_{\\mathbf{w}\\in \\mathbb{R}^d, w_0\\in\\mathbb{R}}  \\lambda \\sum_{i=1}^N\\log\\left(1+e^{-y^{(i)}(\\mathbf{w}^\\top\\mathbf{x}^{(i)}+w_0 )}\\right)  +\\frac{1}{2}\\|\\mathbf{w}\\|_2^2 } $$\n",
        "Similarly, the learning rate is $\\eta_t = \\frac{1}{(1+2t)^2}$ and total iteration number is $100$. The regulation parameter $\\lambda$ is selected as follows, \n",
        "$$ \\lambda\\in \\{10^{-4},10^{-3},10^{-2},10^{-1},1,10,100,1000,10000 \\}$$\n",
        "Report the test error rates for each $\\lambda$ and find the best parameter $\\lambda$. \n",
        "You might need to restart the training with better initial conditions. \n"
      ]
    },
    {
      "cell_type": "code",
      "execution_count": null,
      "metadata": {
        "id": "6GzE4I64Mdqp"
      },
      "outputs": [],
      "source": [
        " #@title Q2.4 your code starts here\n",
        "\n",
        "def train_weights(X, y, learning_rate_span,lambda_param, n_iter=1000):\n",
        "  N,d = X.shape       \n",
        "  w   = ones(784)*(-1)  \n",
        "  w[1] = 2            \n",
        "  w0  = 2\n",
        "  for iter in range(n_iter):\n",
        "    learning_rate = learning_rate_span[iter]\n",
        "    arr = np.arange(N)\n",
        "    random.shuffle(arr)\n",
        "    for i in arr:\n",
        "      qx = (exp(y[i]*(w.dot(X[i])+w0)))\n",
        "\n",
        "      #q = y[i]\n",
        "      #x = (w.dot(X[i]+w0))\n",
        "      #denom = exp(q*x)+1\n",
        "      #a = (lambda_param*q*x)/denom\n",
        "      w = w - learning_rate * (w - (lambda_param*y[i]*X[i])/(1+qx))\n",
        "      w0 = w0 -learning_rate * (-(lambda_param*y[i])/(1+qx))\n",
        "\n",
        "  return w, w0\n",
        "\n",
        "\n",
        "\n"
      ]
    },
    {
      "cell_type": "code",
      "execution_count": null,
      "metadata": {
        "colab": {
          "background_save": true
        },
        "id": "d6cH4vlvHDhj",
        "outputId": "6b8eeda2-d80e-4582-f4fa-b91806b20723"
      },
      "outputs": [
        {
          "name": "stderr",
          "output_type": "stream",
          "text": [
            "/usr/local/lib/python3.7/dist-packages/ipykernel_launcher.py:13: RuntimeWarning: overflow encountered in exp\n",
            "  del sys.path[0]\n"
          ]
        },
        {
          "name": "stdout",
          "output_type": "stream",
          "text": [
            "Test error at 0.0001 is: 9.700000000000001%\n",
            "Test error at 0.001 is: 4.8%\n",
            "Test error at 0.01 is: 3.3000000000000003%\n",
            "Test error at 0.1 is: 4.6%\n",
            "Test error at 1 is: 6.9%\n",
            "Test error at 10 is: 7.3%\n",
            "Test error at 100 is: 9.4%\n",
            "Test error at 1000 is: 6.6000000000000005%\n",
            "Test error at 10000 is: 5.8999999999999995%\n"
          ]
        }
      ],
      "source": [
        "# creating parameters for log loss svm \n",
        "n_iter = 100\n",
        "n_span = arange(n_iter)\n",
        "l_rate_span = 1/((1+ 2*n_span)**2)\n",
        "lambda_param =[0.0001, 0.001, 0.01, 0.1, 1, 10, 100, 1000, 10000]\n",
        "# loop to run and predict outcome for each lambda\n",
        "for i in lambda_param:\n",
        "  weights=train_weights(X,Y,l_rate_span,i,n_iter=100)\n",
        "  w=weights[0]              # retrieve w\n",
        "  w0=weights[1]             # retrive w0\n",
        "  ypred = predict1(w,xt,w0)  # predicting x test instead of train \n",
        "  ypred[ypred<0]=-1         # round values to either -1, or 1 \n",
        "  ypred[ypred>0]=1\n",
        "\n",
        "  # test error\n",
        "  print('Test error at '+ str(i)+' is: ' + str(norm(ypred-Yte,0)/1000*100) + '%')"
      ]
    },
    {
      "cell_type": "markdown",
      "metadata": {
        "id": "iQ9_jl56Mf1_"
      },
      "source": [
        "### **Your Answer:**\n",
        "I could not get it debugged properly."
      ]
    },
    {
      "cell_type": "markdown",
      "metadata": {
        "id": "NIXStFDeAPPh"
      },
      "source": [
        "\n",
        "---\n",
        "\n",
        "\n",
        "### 5. Optional problem: try the kernel trick \n",
        "You can try to use the kernel trick with various different $\\sigma^2$ and $\\lambda$. What is your difficulty and your findings here? "
      ]
    },
    {
      "cell_type": "markdown",
      "metadata": {
        "id": "KuOQuIqbA5gE"
      },
      "source": [
        "### **Your Answer:**"
      ]
    },
    {
      "cell_type": "markdown",
      "metadata": {
        "id": "fYrdJc1pJ8g3"
      },
      "source": [
        "\n",
        "\n",
        "\n",
        "\n",
        "## Q3: $k$-NN on Iris data (30pt)\n",
        "\n",
        "\n",
        "---\n",
        "\n",
        "This data sets consists of 3 different types of irises’ (Setosa, Versicolour, and Virginica) petal and sepal length, stored in a $150\\times4$ matrices.\n",
        "\n",
        "The rows being the samples and the columns being: Sepal Length, Sepal Width, Petal Length and Petal Width.\n",
        "\n",
        "\n"
      ]
    },
    {
      "cell_type": "code",
      "execution_count": null,
      "metadata": {
        "colab": {
          "background_save": true
        },
        "id": "uiHks7wWLaCt",
        "outputId": "18d376bf-0d3e-4832-a87c-515da6227fe4"
      },
      "outputs": [
        {
          "name": "stdout",
          "output_type": "stream",
          "text": [
            "(60, 4)\n",
            "(90, 4)\n"
          ]
        }
      ],
      "source": [
        "# you are not allowed to use other package and modules \n",
        "from sklearn.datasets import load_iris\n",
        "from sklearn.model_selection import train_test_split\n",
        "\n",
        "iris = load_iris()\n",
        "X = iris.data\n",
        "y = iris.target\n",
        "\n",
        "# Split in training and testing set\n",
        "x_train, x_test, y_train, y_test = train_test_split(X, y, test_size=0.6, stratify=y)\n",
        "\n",
        "print(x_train.shape)\n",
        "print(x_test.shape)"
      ]
    },
    {
      "cell_type": "markdown",
      "metadata": {
        "id": "XUVQkjRdMFhD"
      },
      "source": [
        "## 1. Use 5-fold cross validation to find optimal $k$ (20pt)\n",
        "Here we only use the training dataset, `X_train` and `y_train`. We will test $k$ range from 1 to 21. For each $k$, we will use 5-fold cross validation to estimate the average misclassification rate. Please plot the average misclassification rate verse $k$ and find the optimal $k$. "
      ]
    },
    {
      "cell_type": "code",
      "execution_count": null,
      "metadata": {
        "colab": {
          "background_save": true
        },
        "id": "FNKDoRedNl_a",
        "outputId": "5c31c65a-c20e-4a1c-eaf2-8dd9e3847178"
      },
      "outputs": [
        {
          "name": "stdout",
          "output_type": "stream",
          "text": [
            "21\n"
          ]
        },
        {
          "data": {
            "text/plain": [
              "Text(0.5, 1.0, '5-fold cross validation, n-train = 100')"
            ]
          },
          "execution_count": null,
          "metadata": {},
          "output_type": "execute_result"
        },
        {
          "data": {
            "image/png": "[encoded data removed]",
            "text/plain": [
              "<Figure size 432x288 with 1 Axes>"
            ]
          },
          "metadata": {},
          "output_type": "display_data"
        }
      ],
      "source": [
        " #@title Q3.1 your code starts here\n",
        "#@title my KNN implementation\n",
        "def myknn_predict(k, x_train, y_train, x_test):\n",
        "  labelEst = np.zeros(x_test.shape[0])\n",
        "  for i, x in enumerate(x_test):\n",
        "    dist            = norm(x_train - x, axis=1) # 2-norm\n",
        "    dist_sort_index = argsort(dist)\n",
        "    neigh_labels    = y_train[dist_sort_index[0:k]]\n",
        "    labelEst[i]     = argmax(bincount(neigh_labels)) # simple majority rule\n",
        "  return labelEst\n",
        "\n",
        "#@title 5-fold cross_validate\n",
        "# we only use the training data. \n",
        "ks = arange(1,22,1)\n",
        "print(ks.size)\n",
        "# we only use the training data. \n",
        "scores     = []\n",
        "CV         = 5\n",
        "N_train    = y_train.shape[0]\n",
        "batch      = N_train/CV\n",
        "for k in ks:\n",
        "  x_train_CV = split(x_train, CV)\n",
        "  y_train_CV = split(y_train, CV)\n",
        "  test_errs  = []\n",
        "  for i in range(CV):\n",
        "    index = delete(arange(CV),i)\n",
        "    x_train_CV_i = vstack([x_train_CV[j] for j in index])\n",
        "    y_train_CV_i = hstack([y_train_CV[j] for j in index])\n",
        "    x_test_CV_i  = x_train_CV[i]\n",
        "    y_test_CV_i  = y_train_CV[i]\n",
        "\n",
        "    y_test_CV_i_predicted = myknn_predict(k, x_train_CV_i, y_train_CV_i, x_test_CV_i)\n",
        "    test_errs.append(norm(y_test_CV_i_predicted - y_test_CV_i, 0)/batch)\n",
        "\n",
        "  scores.append(mean(test_errs))  \n",
        "\n",
        "plt.figure()\n",
        "plt.plot(ks, scores, 'ko-')\n",
        "plt.xlabel('k')\n",
        "plt.ylabel('misclassification rate')\n",
        "plt.title('5-fold cross validation, n-train = 100')\n"
      ]
    },
    {
      "cell_type": "markdown",
      "metadata": {
        "id": "Hlx7Yin3NowQ"
      },
      "source": [
        "## 2. Use optimal $k$ to predict in the test dataset (10pt)\n",
        "Now we have the optimal $k$. We will apply the optimal $k$-NN on the test dataset and please estimate the misclassification rate in the test dataset. "
      ]
    },
    {
      "cell_type": "code",
      "execution_count": null,
      "metadata": {
        "colab": {
          "background_save": true
        },
        "id": "jP-1sp4QehJ_",
        "outputId": "7d2b9267-a10c-480d-c791-ad9dd1121234"
      },
      "outputs": [
        {
          "name": "stdout",
          "output_type": "stream",
          "text": [
            "optimal k is: 7\n",
            "[2. 0. 2. 2. 1. 0. 2. 0. 0. 1. 1. 1. 2. 2. 2. 2. 0. 2. 2. 2. 0. 1. 0. 1.\n",
            " 0. 0. 1. 1. 2. 1. 2. 1. 0. 1. 2. 2. 2. 0. 0. 1. 1. 1. 1. 1. 1. 2. 0. 2.\n",
            " 0. 2. 1. 0. 1. 2. 2. 1. 2. 1. 1. 2. 2. 2. 0. 0. 1. 0. 1. 0. 1. 0. 1. 0.\n",
            " 1. 1. 2. 1. 1. 0. 1. 0. 0. 0. 1. 1. 0. 2. 0. 0. 0. 0.]\n"
          ]
        }
      ],
      "source": [
        "out = 1\n",
        "for i in scores[1:]:\n",
        "  if i == min(scores):\n",
        "    print('optimal k is: '+str(out+1))\n",
        "    k=out+1\n",
        "    break\n",
        "  else:\n",
        "    out = out+1\n",
        "\n",
        "y_test_predicted  = myknn_predict(k, x_train, y_train, x_test)\n",
        "print(y_test_predicted)\n"
      ]
    },
    {
      "cell_type": "code",
      "execution_count": null,
      "metadata": {
        "colab": {
          "background_save": true
        },
        "id": "Ii9BQYyPWZ5-",
        "outputId": "10e359bd-6510-4e15-8aac-674d64ff1106"
      },
      "outputs": [
        {
          "name": "stdout",
          "output_type": "stream",
          "text": [
            "Test error is: 5.556%\n"
          ]
        }
      ],
      "source": [
        "er = norm(y_test_predicted-y_test,0)/90*100\n",
        "er=round(er,3)\n",
        "print('Test error is: ' + str(er) + '%')"
      ]
    }
  ],
  "metadata": {
    "colab": {
      "collapsed_sections": [
        "ERvvzBXc5khg",
        "31BQ2vMFphF6",
        "9Qt_c9mGwU1T",
        "3t3xKcF-3KLH",
        "Y0y8ouw8IPOY",
        "KPW7r24hI0Bc",
        "iQ9_jl56Mf1_",
        "NIXStFDeAPPh",
        "KuOQuIqbA5gE"
      ],
      "name": "HW2_RobertCologero.ipynb",
      "provenance": [],
      "include_colab_link": true
    },
    "kernelspec": {
      "display_name": "Python 3",
      "name": "python3"
    },
    "language_info": {
      "name": "python"
    }
  },
  "nbformat": 4,
  "nbformat_minor": 0
}